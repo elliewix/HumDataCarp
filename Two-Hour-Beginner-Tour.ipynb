{
 "cells": [
  {
   "cell_type": "markdown",
   "metadata": {},
   "source": [
    "# Two Hour Tour\n",
    "\n",
    "So you're curious about Python but new to programming and unsure how it might help you in your research.  A great place to start!  This lesson is designed to be a 2 hour hands on tour of how Python can be used as a utility for processing text, particularly for humanities/literature projects.  Two hors isn't sufficient to give you every essential piece of knowledge, but it is enough time to better understand if it might be something useful to keep learning.\n",
    "\n",
    "This means that we're going to dive right in and explore the basics as we're going.  Expect to not understand every piece of code you see here, and get comfortable with that.  Remember that we're going for a tour here rather than full tutorial.  You'd rather not invest days into learning Python only to realize that it isn't something useful for your projects, right?  But two hours is enough to explore some of the patterns and get some tools."
   ]
  },
  {
   "cell_type": "markdown",
   "metadata": {},
   "source": [
    "## Install stuff\n",
    "\n",
    "This tutorial will somewhat presume that you can install Python on your own.  \n",
    "\n",
    "### You can install things on your computer\n",
    "\n",
    "\n",
    "### You can't install things on your computer\n",
    "\n",
    "As an alternative, you can use http://www.pythonanywhere.com.  A free account should be just fine.  You can either start up a new IPython console of whichever version you'd like (3.5 or above is fine if you aren't sure).  You can also "
   ]
  },
  {
   "cell_type": "code",
   "execution_count": null,
   "metadata": {
    "collapsed": true
   },
   "outputs": [],
   "source": []
  },
  {
   "cell_type": "code",
   "execution_count": null,
   "metadata": {
    "collapsed": true
   },
   "outputs": [],
   "source": []
  },
  {
   "cell_type": "markdown",
   "metadata": {
    "collapsed": true
   },
   "source": [
    "# The core starting place: reading in data\n",
    "\n",
    "In this case, we're going to read in the contents of a text file."
   ]
  },
  {
   "cell_type": "code",
   "execution_count": 1,
   "metadata": {},
   "outputs": [
    {
     "name": "stdout",
     "output_type": "stream",
     "text": [
      "110828\n"
     ]
    }
   ],
   "source": [
    "with open('pettigrew_letters_ORIGINAL.txt', 'r') as file_in:\n",
    "    text = file_in.read()\n",
    "\n",
    "print(len(text))"
   ]
  },
  {
   "cell_type": "markdown",
   "metadata": {
    "collapsed": true
   },
   "source": [
    "Q: What do you think it was counting?\n",
    "\n",
    "There are a few things we can recognize right away:\n",
    "* we've got a file name there, so we must be reading in that text file\n",
    "    * we didn't have to provide a full path, so relative paths work\n",
    "    * "
   ]
  },
  {
   "cell_type": "code",
   "execution_count": null,
   "metadata": {
    "collapsed": true
   },
   "outputs": [],
   "source": []
  }
 ],
 "metadata": {
  "kernelspec": {
   "display_name": "Python 3",
   "language": "python",
   "name": "python3"
  },
  "language_info": {
   "codemirror_mode": {
    "name": "ipython",
    "version": 3
   },
   "file_extension": ".py",
   "mimetype": "text/x-python",
   "name": "python",
   "nbconvert_exporter": "python",
   "pygments_lexer": "ipython3",
   "version": "3.6.1"
  }
 },
 "nbformat": 4,
 "nbformat_minor": 2
}
