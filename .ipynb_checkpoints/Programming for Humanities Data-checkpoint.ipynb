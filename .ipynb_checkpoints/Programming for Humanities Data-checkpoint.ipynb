{
 "cells": [
  {
   "cell_type": "markdown",
   "metadata": {},
   "source": [
    "# Humanities data: what is it really?\n",
    "\n",
    "Humanities work can take many many forms, but usually involves text.  This text may be:\n",
    "\n",
    "* derivatives from text, e.g. bag of words\n",
    "* transcriptions of intererviews\n",
    "* unstructured free text\n",
    "* semi-strucutred data\n",
    "* qualitative coded values\n",
    "* lists of resources\n",
    "* and many more\n",
    "\n",
    "The data area where Python really shines is the manipulation of text structures.\n",
    "\n",
    "## But what about R?\n",
    "\n",
    "R is another language, focused on statistics.  It has great support for modeling, viz, etc.  Many text modeling/analysis tools are written in R.  So you may need to focus your efforts in learning R.  That said, the basic concepts that we're covered this morning and will look at this afternoon will carry over to working in R.  The structures in R are a bit different, so it isn't 1:1, but knowing the concept of a variable, the concept of a string, the concept of numerical types, etc. will serve you very well in the transition.\n",
    "\n",
    "## You don't have to choose just one platform\n",
    "\n",
    "Choosing the right tool for the right job is a key concept for programming.  Sometimes an entirely different language can save your a lot of trouble.  Also, the digital humanities crowd is pretty split between R and Python, so being functional in both will serve you well.\n",
    "\n",
    "Python handles un-/semi-structured data very well, so you might find it easier to wrangle all your raw data in Python, then produce your analysis data file for processing in another program (e.g. produce coordinates for ArcGIS, network data for Gephi, categorical codes for R, etc.)\n",
    "\n",
    "You don't need to pick and work with only one program.  You'll want to use many tools.\n"
   ]
  },
  {
   "cell_type": "markdown",
   "metadata": {},
   "source": [
    "# Breaking down a problem\n",
    "\n",
    "I want to focus more on design and give you some of the essential patterns to experiment with.  This is the best way to learn.  From a pratitioner standpoint, starting with the core patterns and tinkering with them allows you to get things done first and then you'll fill in the theory along the way.\n",
    "\n",
    "### A basic problem:  Count the words in the Raven\n",
    "\n",
    "In this problem we'll explore reading in text, manipulating it to get our data out, and then writing out data for ourselves.  Writing programs is a very iterative and non-linear process.  Much like starting off with an outline of a paper, you'll have clearer ideas on how to handle certain tasks that others.\n",
    "\n",
    "Even though you've never seen this code, we can start somewhere!  We know all these things need to happen, even if we aren't sure how yet.\n",
    "\n",
    "1. Read in the text\n",
    "2. Count the words. I might need to toss out some stop words, but I don't know what those are yet.\n",
    "3. Assemble some data\n",
    "4. Make a data file where I have:  word, count\n",
    "\n",
    "This is a great start, and pinpoints many of the problems that we need to solve.  I usually like to start filling in the easy chunks first, so I can focus on adapting the middle chunk.  Usually the juicy peices, e.g. \"counting the words\" appear as just a few lines in middle of a whole load of prep."
   ]
  },
  {
   "cell_type": "markdown",
   "metadata": {},
   "source": [
    "# Reading in text\n",
    "\n",
    "There are multiple methods of reading in text, but I'm going to show you one of the classic methods.  We're very used to programs handling file opening, writing, editing, etc. for us, but when it comes to programming languages, we have to do that all ourselves.  We're used to opening and closing files within a GUI, but we'll be doing that more explicitly inside of our code.\n",
    "\n",
    "`variable = open(filename, mode)` is our basic pattern for file handling.  The filename is just a string of the file path, and the mode is a string (https://docs.python.org/3.6/library/functions.html#open) to declare which mode you'd like to oepn the file as.  There are many, but you're going to usually use:\n",
    "\n",
    "* 'r' for reading in a file\n",
    "* 'w' for writing to a file\n",
    "* 'a' for append (not the most common)\n",
    "\n",
    "Once you're done doing what you need to a file, you'll want to run:  `variable.close()`.  Once you close a file you will no longer have read or write access to that IO object.\n",
    "\n",
    "The more specific pattern for handling files is:\n",
    "\n",
    "1. Create a file IO object in the desired mode\n",
    "    * `file_in = open('raven.txt', 'r')`\n",
    "    * `file_out = open('raven_data.txt', 'w')`\n",
    "    * When writing out a file, if that file name does not exist it will create it.  If it does exist, in `'w'` mode it'll overwrite it, and `'a'` mode will add stuff to the end of it. \n",
    "2. Do your stuff to the file\n",
    "    * We haven't learned these yet!\n",
    "3. Close the file\n",
    "    * `file_in.close()`\n",
    "    * `file_out.close()`"
   ]
  },
  {
   "cell_type": "markdown",
   "metadata": {
    "collapsed": true
   },
   "source": [
    "## .read() the oldie but goodie\n",
    "\n",
    "There are many methods of reading in a file, but .read() is sort of the \"when unsure...\" option."
   ]
  },
  {
   "cell_type": "code",
   "execution_count": 1,
   "metadata": {
    "collapsed": true
   },
   "outputs": [],
   "source": [
    "file_in = open('raven.txt', 'r') # create IO object in read mode\n",
    "text = file_in.read() # apply .read() to the IO object and store the results as variable text\n",
    "file_in.close()"
   ]
  },
  {
   "cell_type": "code",
   "execution_count": 2,
   "metadata": {
    "collapsed": false
   },
   "outputs": [
    {
     "name": "stdout",
     "output_type": "stream",
     "text": [
      "Once upon a midnight dreary, while I pondered, weak and weary, \n",
      "Over many a quaint and curious volume of forgotten lore, \n",
      "While I nodded, nearly napping, suddenly there came a tapping, \n",
      "As of some one gently rapping, rapping at my chamber door. \n",
      "\"'Tis some visitor,\" I muttered, \"tapping at my chamber door- \n",
      "                Only this, and nothing more.\" \n",
      "\n",
      "Ah, distinctly I remember it was in the bleak December, \n",
      "And each separate dying ember wrought its ghost upon the floor. \n",
      "Eagerly I wished the morrow;- vainly I had sought to borrow \n",
      "From my books surcease of sorrow- sorrow for the lost Lenore- \n",
      "For the rare and radiant maiden whom the angels name Lenore- \n",
      "                Nameless here for evermore. \n",
      "\n",
      "And the silken, sad, uncertain rustling of each purple curtain \n",
      "Thrilled me- filled me with fantastic terrors never felt before; \n",
      "So that now, to still the beating of my heart, I stood repeating, \n",
      "\"'Tis some visitor entreating entrance at my chamber door- \n",
      "Some late visitor entreating entrance at my chamber door;- \n",
      "                This it is, and nothing more.\" \n",
      "\n",
      "Presently my soul grew stronger; hesitating then no longer, \n",
      "\"Sir,\" said I, \"or Madam, truly your forgiveness I implore; \n",
      "But the fact is I was napping, and so gently you came rapping, \n",
      "And so faintly you came tapping, tapping at my chamber door, \n",
      "That I scarce was sure I heard you\"- here I opened wide the door;- \n",
      "                Darkness there, and nothing more. \n",
      "\n",
      "Deep into that darkness peering, long I stood there wondering, fearing, \n",
      "Doubting, dreaming dreams no mortal ever dared to dream before; \n",
      "But the silence was unbroken, and the stillness gave no token, \n",
      "And the only word there spoken was the whispered word, \"Lenore?\" \n",
      "This I whispered, and an echo murmured back the word, \"Lenore!\"- \n",
      "                Merely this, and nothing more. \n",
      "\n",
      "Back into the chamber turning, all my soul within me burning, \n",
      "Soon again I heard a tapping somewhat louder than before. \n",
      "\"Surely,\" said I, \"surely that is something at my window lattice: \n",
      "Let me see, then, what thereat is, and this mystery explore- \n",
      "Let my heart be still a moment and this mystery explore;- \n",
      "                'Tis the wind and nothing more!\" \n",
      "\n",
      "Open here I flung the shutter, when, with many a flirt and flutter, \n",
      "In there stepped a stately Raven of the saintly days of yore; \n",
      "Not the least obeisance made he; not a minute stopped or stayed he; \n",
      "But, with mien of lord or lady, perched above my chamber door- \n",
      "Perched upon a bust of Pallas just above my chamber door- \n",
      "                Perched, and sat, and nothing more. \n",
      "\n",
      "Then this ebony bird beguiling my sad fancy into smiling, \n",
      "By the grave and stern decorum of the countenance it wore. \n",
      "\"Though thy crest be shorn and shaven, thou,\" I said, \"art sure no craven, \n",
      "Ghastly grim and ancient Raven wandering from the Nightly shore- \n",
      "Tell me what thy lordly name is on the Night's Plutonian shore!\" \n",
      "                Quoth the Raven, \"Nevermore.\" \n",
      "\n",
      "Much I marvelled this ungainly fowl to hear discourse so plainly, \n",
      "Though its answer little meaning- little relevancy bore; \n",
      "For we cannot help agreeing that no living human being \n",
      "Ever yet was blessed with seeing bird above his chamber door- \n",
      "Bird or beast upon the sculptured bust above his chamber door, \n",
      "                With such name as \"Nevermore.\" \n",
      "\n",
      "But the Raven, sitting lonely on the placid bust, spoke only \n",
      "That one word, as if his soul in that one word he did outpour. \n",
      "Nothing further then he uttered- not a feather then he fluttered- \n",
      "Till I scarcely more than muttered, \"Other friends have flown before- \n",
      "On the morrow he will leave me, as my hopes have flown before.\" \n",
      "                Then the bird said, \"Nevermore.\" \n",
      "\n",
      "Startled at the stillness broken by reply so aptly spoken, \n",
      "\"Doubtless,\" said I, \"what it utters is its only stock and store, \n",
      "Caught from some unhappy master whom unmerciful Disaster \n",
      "Followed fast and followed faster till his songs one burden bore- \n",
      "Till the dirges of his Hope that melancholy burden bore \n",
      "                Of 'Never- nevermore'.\" \n",
      "\n",
      "But the Raven still beguiling all my fancy into smiling, \n",
      "Straight I wheeled a cushioned seat in front of bird, and bust and door; \n",
      "Then upon the velvet sinking, I betook myself to linking \n",
      "Fancy unto fancy, thinking what this ominous bird of yore- \n",
      "What this grim, ungainly, ghastly, gaunt and ominous bird of yore \n",
      "                Meant in croaking \"Nevermore.\" \n",
      "\n",
      "This I sat engaged in guessing, but no syllable expressing \n",
      "To the fowl whose fiery eyes now burned into my bosom's core; \n",
      "This and more I sat divining, with my head at ease reclining \n",
      "On the cushion's velvet lining that the lamp-light gloated o'er, \n",
      "But whose velvet violet lining with the lamp-light gloating o'er, \n",
      "                She shall press, ah, nevermore! \n",
      "\n",
      "Then methought the air grew denser, perfumed from an unseen censer \n",
      "Swung by Seraphim whose footfalls tinkled on the tufted floor. \n",
      "\"Wretch,\" I cried, \"thy God hath lent thee- by these angels he hath sent thee \n",
      "Respite- respite and nepenthe, from thy memories of Lenore! \n",
      "Quaff, oh quaff this kind nepenthe and forget this lost Lenore!\" \n",
      "                Quoth the Raven, \"Nevermore.\" \n",
      "\n",
      "\"Prophet!\" said I, \"thing of evil! - prophet still, if bird or devil! - \n",
      "Whether Tempter sent, or whether tempest tossed thee here ashore, \n",
      "Desolate yet all undaunted, on this desert land enchanted- \n",
      "On this home by Horror haunted- tell me truly, I implore- \n",
      "Is there- is there balm in Gilead?- tell me- tell me, I implore!\" \n",
      "                Quoth the Raven, \"Nevermore.\" \n",
      "\n",
      "\"Prophet!\" said I, \"thing of evil! - prophet still, if bird or devil! \n",
      "By that Heaven that bends above us- by that God we both adore- \n",
      "Tell this soul with sorrow laden if, within the distant Aidenn, \n",
      "It shall clasp a sainted maiden whom the angels name Lenore- \n",
      "Clasp a rare and radiant maiden whom the angels name Lenore.\" \n",
      "                Quoth the Raven, \"Nevermore.\" \n",
      "\n",
      "\"Be that word our sign in parting, bird or fiend,\" I shrieked, upstarting- \n",
      "\"Get thee back into the tempest and the Night's Plutonian shore! \n",
      "Leave no black plume as a token of that lie thy soul hath spoken! \n",
      "Leave my loneliness unbroken!- quit the bust above my door! \n",
      "Take thy beak from out my heart, and take thy form from off my door!\" \n",
      "                Quoth the Raven, \"Nevermore.\" \n",
      "\n",
      "And the Raven, never flitting, still is sitting, still is sitting \n",
      "On the pallid bust of Pallas just above my chamber door; \n",
      "And his eyes have all the seeming of a demon's that is dreaming, \n",
      "And the lamp-light o'er him streaming throws his shadow on the floor; \n",
      "And my soul from out that shadow that lies floating on the floor \n",
      "                Shall be lifted- nevermore! \n"
     ]
    }
   ],
   "source": [
    "print(text)"
   ]
  },
  {
   "cell_type": "code",
   "execution_count": 3,
   "metadata": {
    "collapsed": false
   },
   "outputs": [
    {
     "data": {
      "text/plain": [
       "'Once upon a midnight dreary, while I pondered, weak and weary, \\nOver many a quaint and curious volume of forgotten lore, \\nWhile I nodded, nearly napping, suddenly there came a tapping, \\nAs of some one gently rapping, rapping at my chamber door. \\n\"\\'Tis some visitor,\" I muttered, \"tapping at my chamber door- \\n                Only this, and nothing more.\" \\n\\nAh, distinctly I remember it was in the bleak December, \\nAnd each separate dying ember wrought its ghost upon the floor. \\nEagerly I wished the morrow;- vainly I had sought to borrow \\nFrom my books surcease of sorrow- sorrow for the lost Lenore- \\nFor the rare and radiant maiden whom the angels name Lenore- \\n                Nameless here for evermore. \\n\\nAnd the silken, sad, uncertain rustling of each purple curtain \\nThrilled me- filled me with fantastic terrors never felt before; \\nSo that now, to still the beating of my heart, I stood repeating, \\n\"\\'Tis some visitor entreating entrance at my chamber door- \\nSome late visitor entreating entrance at my chamber door;- \\n                This it is, and nothing more.\" \\n\\nPresently my soul grew stronger; hesitating then no longer, \\n\"Sir,\" said I, \"or Madam, truly your forgiveness I implore; \\nBut the fact is I was napping, and so gently you came rapping, \\nAnd so faintly you came tapping, tapping at my chamber door, \\nThat I scarce was sure I heard you\"- here I opened wide the door;- \\n                Darkness there, and nothing more. \\n\\nDeep into that darkness peering, long I stood there wondering, fearing, \\nDoubting, dreaming dreams no mortal ever dared to dream before; \\nBut the silence was unbroken, and the stillness gave no token, \\nAnd the only word there spoken was the whispered word, \"Lenore?\" \\nThis I whispered, and an echo murmured back the word, \"Lenore!\"- \\n                Merely this, and nothing more. \\n\\nBack into the chamber turning, all my soul within me burning, \\nSoon again I heard a tapping somewhat louder than before. \\n\"Surely,\" said I, \"surely that is something at my window lattice: \\nLet me see, then, what thereat is, and this mystery explore- \\nLet my heart be still a moment and this mystery explore;- \\n                \\'Tis the wind and nothing more!\" \\n\\nOpen here I flung the shutter, when, with many a flirt and flutter, \\nIn there stepped a stately Raven of the saintly days of yore; \\nNot the least obeisance made he; not a minute stopped or stayed he; \\nBut, with mien of lord or lady, perched above my chamber door- \\nPerched upon a bust of Pallas just above my chamber door- \\n                Perched, and sat, and nothing more. \\n\\nThen this ebony bird beguiling my sad fancy into smiling, \\nBy the grave and stern decorum of the countenance it wore. \\n\"Though thy crest be shorn and shaven, thou,\" I said, \"art sure no craven, \\nGhastly grim and ancient Raven wandering from the Nightly shore- \\nTell me what thy lordly name is on the Night\\'s Plutonian shore!\" \\n                Quoth the Raven, \"Nevermore.\" \\n\\nMuch I marvelled this ungainly fowl to hear discourse so plainly, \\nThough its answer little meaning- little relevancy bore; \\nFor we cannot help agreeing that no living human being \\nEver yet was blessed with seeing bird above his chamber door- \\nBird or beast upon the sculptured bust above his chamber door, \\n                With such name as \"Nevermore.\" \\n\\nBut the Raven, sitting lonely on the placid bust, spoke only \\nThat one word, as if his soul in that one word he did outpour. \\nNothing further then he uttered- not a feather then he fluttered- \\nTill I scarcely more than muttered, \"Other friends have flown before- \\nOn the morrow he will leave me, as my hopes have flown before.\" \\n                Then the bird said, \"Nevermore.\" \\n\\nStartled at the stillness broken by reply so aptly spoken, \\n\"Doubtless,\" said I, \"what it utters is its only stock and store, \\nCaught from some unhappy master whom unmerciful Disaster \\nFollowed fast and followed faster till his songs one burden bore- \\nTill the dirges of his Hope that melancholy burden bore \\n                Of \\'Never- nevermore\\'.\" \\n\\nBut the Raven still beguiling all my fancy into smiling, \\nStraight I wheeled a cushioned seat in front of bird, and bust and door; \\nThen upon the velvet sinking, I betook myself to linking \\nFancy unto fancy, thinking what this ominous bird of yore- \\nWhat this grim, ungainly, ghastly, gaunt and ominous bird of yore \\n                Meant in croaking \"Nevermore.\" \\n\\nThis I sat engaged in guessing, but no syllable expressing \\nTo the fowl whose fiery eyes now burned into my bosom\\'s core; \\nThis and more I sat divining, with my head at ease reclining \\nOn the cushion\\'s velvet lining that the lamp-light gloated o\\'er, \\nBut whose velvet violet lining with the lamp-light gloating o\\'er, \\n                She shall press, ah, nevermore! \\n\\nThen methought the air grew denser, perfumed from an unseen censer \\nSwung by Seraphim whose footfalls tinkled on the tufted floor. \\n\"Wretch,\" I cried, \"thy God hath lent thee- by these angels he hath sent thee \\nRespite- respite and nepenthe, from thy memories of Lenore! \\nQuaff, oh quaff this kind nepenthe and forget this lost Lenore!\" \\n                Quoth the Raven, \"Nevermore.\" \\n\\n\"Prophet!\" said I, \"thing of evil! - prophet still, if bird or devil! - \\nWhether Tempter sent, or whether tempest tossed thee here ashore, \\nDesolate yet all undaunted, on this desert land enchanted- \\nOn this home by Horror haunted- tell me truly, I implore- \\nIs there- is there balm in Gilead?- tell me- tell me, I implore!\" \\n                Quoth the Raven, \"Nevermore.\" \\n\\n\"Prophet!\" said I, \"thing of evil! - prophet still, if bird or devil! \\nBy that Heaven that bends above us- by that God we both adore- \\nTell this soul with sorrow laden if, within the distant Aidenn, \\nIt shall clasp a sainted maiden whom the angels name Lenore- \\nClasp a rare and radiant maiden whom the angels name Lenore.\" \\n                Quoth the Raven, \"Nevermore.\" \\n\\n\"Be that word our sign in parting, bird or fiend,\" I shrieked, upstarting- \\n\"Get thee back into the tempest and the Night\\'s Plutonian shore! \\nLeave no black plume as a token of that lie thy soul hath spoken! \\nLeave my loneliness unbroken!- quit the bust above my door! \\nTake thy beak from out my heart, and take thy form from off my door!\" \\n                Quoth the Raven, \"Nevermore.\" \\n\\nAnd the Raven, never flitting, still is sitting, still is sitting \\nOn the pallid bust of Pallas just above my chamber door; \\nAnd his eyes have all the seeming of a demon\\'s that is dreaming, \\nAnd the lamp-light o\\'er him streaming throws his shadow on the floor; \\nAnd my soul from out that shadow that lies floating on the floor \\n                Shall be lifted- nevermore! '"
      ]
     },
     "execution_count": 3,
     "metadata": {},
     "output_type": "execute_result"
    }
   ],
   "source": [
    "text # running it like this better shows the raw content of the file. "
   ]
  },
  {
   "cell_type": "markdown",
   "metadata": {
    "collapsed": true
   },
   "source": [
    "## .readlines() for more of a delicate touch\n",
    "\n",
    "The other main method of reading in text is .readlines(), which does a lot of stuff for you.  But you do need to use it more purposefully.  We know that the text is organized by lines, and there are newlines aplenty.  .readlines() will create a list where each line of text is a separate string within that list.\n",
    "\n",
    "So a text that looks like:\n",
    "\n",
    "```\n",
    "I am a meat popsicle.\n",
    "I live to be eaten.\n",
    "My soul is frozen.\n",
    "There is a stick.```\n",
    "\n",
    "Will be turned into:\n",
    "\n",
    "```\n",
    "[ ['I am a meat popsicle.\\n'], \n",
    "  ['I live to be eaten.\\n'],\n",
    "  ['My soul is frozen.\\n'],\n",
    "  ['There is a stick.\\n'] ]\n",
    "```\n",
    "\n",
    "Sometimes you want this structure because your plan is to do stuff line by line.  But somethings you just want access to the entire document in a single flat structure."
   ]
  },
  {
   "cell_type": "code",
   "execution_count": null,
   "metadata": {
    "collapsed": true
   },
   "outputs": [],
   "source": []
  },
  {
   "cell_type": "code",
   "execution_count": null,
   "metadata": {
    "collapsed": true
   },
   "outputs": [],
   "source": []
  },
  {
   "cell_type": "code",
   "execution_count": null,
   "metadata": {
    "collapsed": true
   },
   "outputs": [],
   "source": []
  }
 ],
 "metadata": {
  "anaconda-cloud": {},
  "kernelspec": {
   "display_name": "Python [default]",
   "language": "python",
   "name": "python3"
  },
  "language_info": {
   "codemirror_mode": {
    "name": "ipython",
    "version": 3
   },
   "file_extension": ".py",
   "mimetype": "text/x-python",
   "name": "python",
   "nbconvert_exporter": "python",
   "pygments_lexer": "ipython3",
   "version": "3.5.2"
  }
 },
 "nbformat": 4,
 "nbformat_minor": 2
}
