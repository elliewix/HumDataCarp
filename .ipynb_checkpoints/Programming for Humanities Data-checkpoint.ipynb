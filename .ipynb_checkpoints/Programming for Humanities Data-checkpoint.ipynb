{
 "cells": [
  {
   "cell_type": "markdown",
   "metadata": {},
   "source": [
    "# Humanities data: what is it really?\n",
    "\n",
    "Humanities work can take many many forms, but usually involves text.  This text may be:\n",
    "\n",
    "* derivatives from text, e.g. bag of words\n",
    "* transcriptions of intererviews\n",
    "* unstructured free text\n",
    "* semi-strucutred data\n",
    "* qualitative coded values\n",
    "* lists of resources\n",
    "* and many more\n",
    "\n",
    "The data area where Python really shines is the manipulation of text structures.\n",
    "\n",
    "## But what about R?\n",
    "\n",
    "R is another language, focused on statistics.  It has great support for modeling, viz, etc.  Many text modeling/analysis tools are written in R.  So you may need to focus your efforts in learning R.  That said, the basic concepts that we're covered this morning and will look at this afternoon will carry over to working in R.  The structures in R are a bit different, so it isn't 1:1, but knowing the concept of a variable, the concept of a string, the concept of numerical types, etc. will serve you very well in the transition.\n",
    "\n",
    "## You don't have to choose just one platform\n",
    "\n",
    "Choosing the right tool for the right job is a key concept for programming.  Sometimes an entirely different language can save your a lot of trouble.  Also, the digital humanities crowd is pretty split between R and Python, so being functional in both will serve you well.\n",
    "\n",
    "Python handles un-/semi-structured data very well, so you might find it easier to wrangle all your raw data in Python, then produce your analysis data file for processing in another program (e.g. produce coordinates for ArcGIS, network data for Gephi, categorical codes for R, etc.)\n",
    "\n",
    "You don't need to pick and work with only one program.  You'll want to use many tools.\n"
   ]
  },
  {
   "cell_type": "markdown",
   "metadata": {},
   "source": [
    "# Breaking down a problem\n",
    "\n",
    "I want to focus more on design and give you some of the essential patterns to experiment with.  This is the best way to learn.  From a pratitioner standpoint, starting with the core patterns and tinkering with them allows you to get things done first and then you'll fill in the theory along the way.\n",
    "\n",
    "### A basic problem:  Count the words in the Raven\n",
    "\n",
    "In this problem we'll explore reading in text, manipulating it to get our data out, and then writing out data for ourselves.  Writing programs is a very iterative and non-linear process.  Much like starting off with an outline of a paper, you'll have clearer ideas on how to handle certain tasks that others.\n",
    "\n",
    "Even though you've never seen this code, we can start somewhere!  We know all these things need to happen, even if we aren't sure how yet.\n",
    "\n",
    "1. Read in the text\n",
    "2. Count the words. I might need to toss out some stop words, but I don't know what those are yet.\n",
    "3. Assemble some data\n",
    "4. Make a data file where I have:  word, count\n",
    "\n",
    "This is a great start, and pinpoints many of the problems that we need to solve.  I usually like to start filling in the easy chunks first, so I can focus on adapting the middle chunk.  Usually the juicy peices, e.g. \"counting the words\" appear as just a few lines in middle of a whole load of prep."
   ]
  },
  {
   "cell_type": "code",
   "execution_count": null,
   "metadata": {
    "collapsed": true
   },
   "outputs": [],
   "source": []
  },
  {
   "cell_type": "code",
   "execution_count": null,
   "metadata": {
    "collapsed": true
   },
   "outputs": [],
   "source": []
  },
  {
   "cell_type": "code",
   "execution_count": null,
   "metadata": {
    "collapsed": true
   },
   "outputs": [],
   "source": []
  },
  {
   "cell_type": "code",
   "execution_count": null,
   "metadata": {
    "collapsed": true
   },
   "outputs": [],
   "source": []
  },
  {
   "cell_type": "code",
   "execution_count": null,
   "metadata": {
    "collapsed": true
   },
   "outputs": [],
   "source": []
  },
  {
   "cell_type": "code",
   "execution_count": null,
   "metadata": {
    "collapsed": true
   },
   "outputs": [],
   "source": []
  }
 ],
 "metadata": {
  "anaconda-cloud": {},
  "kernelspec": {
   "display_name": "Python [default]",
   "language": "python",
   "name": "python3"
  },
  "language_info": {
   "codemirror_mode": {
    "name": "ipython",
    "version": 3
   },
   "file_extension": ".py",
   "mimetype": "text/x-python",
   "name": "python",
   "nbconvert_exporter": "python",
   "pygments_lexer": "ipython3",
   "version": "3.5.2"
  }
 },
 "nbformat": 4,
 "nbformat_minor": 2
}
